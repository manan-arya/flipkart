{
 "cells": [
  {
   "cell_type": "markdown",
   "metadata": {},
   "source": [
    "**1**"
   ]
  },
  {
   "cell_type": "code",
   "execution_count": 12,
   "metadata": {},
   "outputs": [
    {
     "name": "stdout",
     "output_type": "stream",
     "text": [
      "spam\n"
     ]
    }
   ],
   "source": [
    "A = 'spam'\n",
    "B = A\n",
    "B = \"shubbery\"\n",
    "print(A)"
   ]
  },
  {
   "cell_type": "markdown",
   "metadata": {},
   "source": [
    "**2**"
   ]
  },
  {
   "cell_type": "code",
   "execution_count": 13,
   "metadata": {},
   "outputs": [
    {
     "name": "stdout",
     "output_type": "stream",
     "text": [
      "['shubbery']\n"
     ]
    }
   ],
   "source": [
    "A = ['spam']\n",
    "B = A\n",
    "B[0] = \"shubbery\"\n",
    "print(A)"
   ]
  },
  {
   "cell_type": "markdown",
   "metadata": {},
   "source": [
    "**3**"
   ]
  },
  {
   "cell_type": "code",
   "execution_count": 14,
   "metadata": {},
   "outputs": [
    {
     "name": "stdout",
     "output_type": "stream",
     "text": [
      "['spam']\n"
     ]
    }
   ],
   "source": [
    "A = ['spam']\n",
    "B = A[:]\n",
    "B[0] = \"shrubbery\"\n",
    "print(A)"
   ]
  },
  {
   "cell_type": "markdown",
   "metadata": {},
   "source": [
    "**4**"
   ]
  },
  {
   "cell_type": "code",
   "execution_count": 15,
   "metadata": {},
   "outputs": [
    {
     "name": "stdout",
     "output_type": "stream",
     "text": [
      "Tell us your name?: Manan\n",
      "Hello Manan\n"
     ]
    }
   ],
   "source": [
    "name = input('Tell us your name?: ')\n",
    "print(\"Hello\",name)"
   ]
  },
  {
   "cell_type": "markdown",
   "metadata": {},
   "source": [
    "**5**"
   ]
  },
  {
   "cell_type": "code",
   "execution_count": 16,
   "metadata": {},
   "outputs": [
    {
     "name": "stdout",
     "output_type": "stream",
     "text": [
      "Enter the length of the room (in feet): 6\n",
      "Enter the breadth of the room (in feet): 2\n",
      "12.0  feet\n"
     ]
    }
   ],
   "source": [
    "length = input('Enter the length of the room (in feet): ')\n",
    "breadth = input('Enter the breadth of the room (in feet): ')\n",
    "print(float(length)*float(breadth),\" feet\")"
   ]
  },
  {
   "cell_type": "markdown",
   "metadata": {},
   "source": [
    "**6**"
   ]
  },
  {
   "cell_type": "code",
   "execution_count": 17,
   "metadata": {},
   "outputs": [
    {
     "name": "stdout",
     "output_type": "stream",
     "text": [
      "Enter the value of n: 5\n",
      "Sum of first  5  number is  15\n"
     ]
    }
   ],
   "source": [
    "n = input('Enter the value of n: ')\n",
    "n = int(n)\n",
    "sum = n*(n+1)/2\n",
    "sum = int(sum)\n",
    "print(\"Sum of first \",n,\" number is \",sum)"
   ]
  },
  {
   "cell_type": "markdown",
   "metadata": {},
   "source": [
    "**7**"
   ]
  },
  {
   "cell_type": "code",
   "execution_count": 18,
   "metadata": {},
   "outputs": [
    {
     "name": "stdout",
     "output_type": "stream",
     "text": [
      "Enter the value of a: 2\n",
      "Enter the value of b: 4\n",
      "The sum of a & b is  6.0\n",
      "The difference of a & b is  -2.0\n",
      "The product of a & b is  8.0\n",
      "The quotient of a/b is  0.5\n",
      "The remainder of a/b is  2.0\n",
      "The power of a to b is  16.0\n"
     ]
    }
   ],
   "source": [
    "a = input('Enter the value of a: ')\n",
    "b = input('Enter the value of b: ')\n",
    "a = float(a)\n",
    "b = float(b)\n",
    "add = a+b\n",
    "print(\"The sum of a & b is \",add)\n",
    "diff = a-b\n",
    "print(\"The difference of a & b is \",diff)\n",
    "pro = a*b\n",
    "print(\"The product of a & b is \",pro)\n",
    "q = a/b\n",
    "print(\"The quotient of a/b is \",q)\n",
    "r = a%b\n",
    "print(\"The remainder of a/b is \",r)\n",
    "p = a**b\n",
    "print(\"The power of a to b is \",p)"
   ]
  },
  {
   "cell_type": "markdown",
   "metadata": {},
   "source": [
    "**8**"
   ]
  },
  {
   "cell_type": "code",
   "execution_count": 19,
   "metadata": {},
   "outputs": [
    {
     "name": "stdout",
     "output_type": "stream",
     "text": [
      "Enter your height in feet and inches\n",
      "feet: 6\n",
      "inches: 1\n",
      "The height in centimeter is:  185.42\n"
     ]
    }
   ],
   "source": [
    "print(\"Enter your height in feet and inches\")\n",
    "feet = input(\"feet: \")\n",
    "inch = input(\"inches: \")\n",
    "c1 = 12*2.54*int(feet)\n",
    "c2 = 2.54*int(inch)\n",
    "print(\"The height in centimeter is: \",c1+c2)"
   ]
  },
  {
   "cell_type": "code",
   "execution_count": 20,
   "metadata": {},
   "outputs": [
    {
     "name": "stdout",
     "output_type": "stream",
     "text": [
      "This week's total sales :  2534\n"
     ]
    }
   ],
   "source": [
    "Mon_sales = \"235\"\n",
    "Tue_sales = \"256\"\n",
    "Wed_sales = \"564\"\n",
    "Thu_sales = \"890\"\n",
    "Fri_sales = \"589\"\n",
    "\n",
    "Total_sales = float(Mon_sales) + float(Tue_sales) + float(Wed_sales) + float(Thu_sales) + float(Fri_sales)\n",
    "\n",
    "print(\"This week's total sales : \",int(Total_sales))"
   ]
  },
  {
   "cell_type": "code",
   "execution_count": 21,
   "metadata": {},
   "outputs": [
    {
     "name": "stdout",
     "output_type": "stream",
     "text": [
      "<class 'bool'>\n"
     ]
    }
   ],
   "source": [
    "print(type(1==2))"
   ]
  },
  {
   "cell_type": "markdown",
   "metadata": {},
   "source": [
    "**9**"
   ]
  },
  {
   "cell_type": "code",
   "execution_count": 22,
   "metadata": {},
   "outputs": [
    {
     "name": "stdout",
     "output_type": "stream",
     "text": [
      "Enter the first number2\n",
      "Enter the second number5\n",
      "Enter the third number1\n"
     ]
    }
   ],
   "source": [
    "a = input('Enter the first number')\n",
    "b = input('Enter the second number')\n",
    "c = input('Enter the third number')"
   ]
  },
  {
   "cell_type": "code",
   "execution_count": 23,
   "metadata": {},
   "outputs": [
    {
     "data": {
      "text/plain": [
       "'1'"
      ]
     },
     "execution_count": 23,
     "metadata": {},
     "output_type": "execute_result"
    }
   ],
   "source": [
    "first = min(a,b,c)\n",
    "first"
   ]
  },
  {
   "cell_type": "code",
   "execution_count": 24,
   "metadata": {},
   "outputs": [
    {
     "data": {
      "text/plain": [
       "'5'"
      ]
     },
     "execution_count": 24,
     "metadata": {},
     "output_type": "execute_result"
    }
   ],
   "source": [
    "last = max(a,b,c)\n",
    "last"
   ]
  },
  {
   "cell_type": "code",
   "execution_count": 25,
   "metadata": {},
   "outputs": [
    {
     "data": {
      "text/plain": [
       "2.0"
      ]
     },
     "execution_count": 25,
     "metadata": {},
     "output_type": "execute_result"
    }
   ],
   "source": [
    "middle = float(a)+float(b)+float(c)-float(first)-float(last)\n",
    "middle"
   ]
  },
  {
   "cell_type": "code",
   "execution_count": 26,
   "metadata": {},
   "outputs": [
    {
     "name": "stdout",
     "output_type": "stream",
     "text": [
      "Sorted order is  1   2   5\n"
     ]
    }
   ],
   "source": [
    "print('Sorted order is ',first,' ',int(middle),' ',last)"
   ]
  },
  {
   "cell_type": "markdown",
   "metadata": {},
   "source": [
    "**10**"
   ]
  },
  {
   "cell_type": "code",
   "execution_count": 1,
   "metadata": {},
   "outputs": [],
   "source": [
    "def tellDays(month):\n",
    "    print('In the func')\n",
    "    l1 = ['january','march','may','july','august','october','december']\n",
    "    l2 = ['feburary','april','june','september','november']\n",
    "    i=0\n",
    "    print(l1[0])\n",
    "    print(type(i))\n",
    "    for i in range(0,7):\n",
    "        if month == l1[i]:\n",
    "            ##return 'Month has 31 days'\n",
    "            return 31\n",
    "    for i in l2:\n",
    "        if(month == 'feburary'):\n",
    "                ##return 'Month has 28 or 29 days'\n",
    "                return 28\n",
    "        else:\n",
    "                ##return 'Month has 30 days'\n",
    "                return 30\n",
    "       \n",
    "        "
   ]
  },
  {
   "cell_type": "code",
   "execution_count": 2,
   "metadata": {},
   "outputs": [
    {
     "name": "stdout",
     "output_type": "stream",
     "text": [
      "Enter the monthjanuary\n",
      "In the func\n",
      "january\n",
      "<class 'int'>\n"
     ]
    },
    {
     "data": {
      "text/plain": [
       "31"
      ]
     },
     "execution_count": 2,
     "metadata": {},
     "output_type": "execute_result"
    }
   ],
   "source": [
    "mnth = input('Enter the month')\n",
    "reply = tellDays(mnth)\n",
    "reply"
   ]
  },
  {
   "cell_type": "markdown",
   "metadata": {},
   "source": [
    "**11**"
   ]
  },
  {
   "cell_type": "code",
   "execution_count": 3,
   "metadata": {},
   "outputs": [
    {
     "name": "stdout",
     "output_type": "stream",
     "text": [
      "Enter the number24\n",
      "Enter the number2\n",
      "['24', '2']\n",
      "Enter the number3\n",
      "['24', '2', '3']\n",
      "Enter the number4\n",
      "['24', '2', '3', '4']\n",
      "Enter the number0\n",
      "['24', '2', '3', '4', '0']\n",
      "8.25\n"
     ]
    }
   ],
   "source": [
    "mylist = []\n",
    "counter = 0\n",
    "num = input('Enter the number')\n",
    "if num == 0:\n",
    "    print('Cannot find average')\n",
    "    exit\n",
    "else:\n",
    "    mylist.append(num)\n",
    "while num !='0':\n",
    "    num = input('Enter the number')\n",
    "    mylist.append(num)\n",
    "    print(mylist)\n",
    "    counter = counter + 1\n",
    "add = 0\n",
    "count = 0\n",
    "for j in range(0,counter):\n",
    "    add = add + int(mylist[j])\n",
    "    count = count + 1\n",
    "avg = add/count\n",
    "print(avg)"
   ]
  },
  {
   "cell_type": "markdown",
   "metadata": {},
   "source": [
    "**12**"
   ]
  },
  {
   "cell_type": "code",
   "execution_count": 4,
   "metadata": {},
   "outputs": [
    {
     "name": "stdout",
     "output_type": "stream",
     "text": [
      "Enter the number5\n"
     ]
    },
    {
     "data": {
      "text/plain": [
       "2.5"
      ]
     },
     "execution_count": 4,
     "metadata": {},
     "output_type": "execute_result"
    }
   ],
   "source": [
    "x = input('Enter the number')\n",
    "guess = float(x)/2\n",
    "while abs(guess*guess - float(x)) >= 11:\n",
    "    guess = (guess + float(x)/guess)/2\n",
    "guess"
   ]
  },
  {
   "cell_type": "markdown",
   "metadata": {},
   "source": [
    "**13**"
   ]
  },
  {
   "cell_type": "code",
   "execution_count": 5,
   "metadata": {},
   "outputs": [],
   "source": [
    "def calc_hypot(side1,side2):\n",
    "    hypot = (side1**2 + side2**2)**0.5\n",
    "    return hypot"
   ]
  },
  {
   "cell_type": "code",
   "execution_count": 6,
   "metadata": {},
   "outputs": [
    {
     "name": "stdout",
     "output_type": "stream",
     "text": [
      "Length of First shorter side3\n",
      "Length of second shorter side4\n"
     ]
    },
    {
     "data": {
      "text/plain": [
       "5.0"
      ]
     },
     "execution_count": 6,
     "metadata": {},
     "output_type": "execute_result"
    }
   ],
   "source": [
    "shorter_side_1 = float(input('Length of First shorter side'))\n",
    "shorter_side_2 = float(input('Length of second shorter side'))\n",
    "hypot = calc_hypot(shorter_side_1,shorter_side_2)\n",
    "hypot"
   ]
  },
  {
   "cell_type": "markdown",
   "metadata": {},
   "source": [
    "**14**"
   ]
  },
  {
   "cell_type": "code",
   "execution_count": 7,
   "metadata": {},
   "outputs": [],
   "source": [
    "def calc_med(mylist):\n",
    "    newlist = []\n",
    "    for itr in range(0,3):\n",
    "        if mylist[itr] == min(mylist):\n",
    "            newlist.append(mylist[itr])\n",
    "        elif mylist[itr] == max(mylist):\n",
    "            newlist.append(mylist[itr])\n",
    "        else:\n",
    "            med = mylist[itr]\n",
    "    return med\n",
    "    #mylist[0] = min(mylist)\n",
    "    #mylist[2] = max(maxlist)"
   ]
  },
  {
   "cell_type": "code",
   "execution_count": 8,
   "metadata": {},
   "outputs": [
    {
     "name": "stdout",
     "output_type": "stream",
     "text": [
      "Enter 1st number2\n",
      "Enter 2nd number3\n",
      "Enter 3rd number4\n"
     ]
    },
    {
     "data": {
      "text/plain": [
       "3"
      ]
     },
     "execution_count": 8,
     "metadata": {},
     "output_type": "execute_result"
    }
   ],
   "source": [
    "f_num_1 = int(input('Enter 1st number'))\n",
    "f_num_2 = int(input('Enter 2nd number'))\n",
    "f_num_3 = int(input('Enter 3rd number'))\n",
    "mylist = []\n",
    "mylist.append(f_num_1)\n",
    "mylist.append(f_num_2)\n",
    "mylist.append(f_num_3)\n",
    "med = calc_med(mylist)\n",
    "med"
   ]
  },
  {
   "cell_type": "markdown",
   "metadata": {},
   "source": [
    "**15**"
   ]
  },
  {
   "cell_type": "code",
   "execution_count": 9,
   "metadata": {},
   "outputs": [],
   "source": [
    "def capitalize(string):\n",
    "    mylist2 = []\n",
    "    for itr in range(len(string)):\n",
    "        mylist2.append(string[itr])\n",
    "    mylist2[0] = mylist2[0].upper()\n",
    "    for itr2 in range(len(mylist2)):\n",
    "        if mylist2[itr2] == 'i':\n",
    "            if (mylist2[itr2-1] == ' ') and (mylist2[itr2+1] == ' '):\n",
    "                mylist2[itr2] = 'I'\n",
    "        elif mylist2[itr2-1] == '.':\n",
    "            mylist2[itr2] = mylist2[itr2].upper()\n",
    "    print(mylist2)\n",
    "    newstring = ''.join(mylist2)\n",
    "    return newstring"
   ]
  },
  {
   "cell_type": "code",
   "execution_count": 10,
   "metadata": {},
   "outputs": [
    {
     "name": "stdout",
     "output_type": "stream",
     "text": [
      "Enter the stringHi i am .manan\n",
      "['H', 'i', ' ', 'I', ' ', 'a', 'm', ' ', '.', 'M', 'a', 'n', 'a', 'n']\n"
     ]
    },
    {
     "data": {
      "text/plain": [
       "'Hi I am .Manan'"
      ]
     },
     "execution_count": 10,
     "metadata": {},
     "output_type": "execute_result"
    }
   ],
   "source": [
    "string = input(\"Enter the string\")\n",
    "new_string = capitalize(string)\n",
    "new_string"
   ]
  },
  {
   "cell_type": "markdown",
   "metadata": {},
   "source": [
    "**16**"
   ]
  },
  {
   "cell_type": "code",
   "execution_count": 14,
   "metadata": {},
   "outputs": [],
   "source": [
    "def number_plate():\n",
    "    import random\n",
    "    import string\n",
    "    s1 = ''.join(random.choices(string.ascii_uppercase, k=3))\n",
    "    s2 = ''.join(random.choices(string.digits, k=3))\n",
    "    s_old = s1+s2\n",
    "    s3 = ''.join(random.choices(string.ascii_uppercase,k=3))\n",
    "    s4 = ''.join(random.choices(string.digits,k=4))\n",
    "    s_new = s4+s3\n",
    "\n",
    "    num = random.randint(0,20)\n",
    "    if num % 2 == 0:\n",
    "        return s_old\n",
    "    else:\n",
    "        return s_new"
   ]
  },
  {
   "cell_type": "code",
   "execution_count": 15,
   "metadata": {},
   "outputs": [
    {
     "name": "stdout",
     "output_type": "stream",
     "text": [
      "9466UIT\n"
     ]
    }
   ],
   "source": [
    "print(number_plate())"
   ]
  },
  {
   "cell_type": "markdown",
   "metadata": {},
   "source": [
    "**17**"
   ]
  },
  {
   "cell_type": "code",
   "execution_count": 17,
   "metadata": {},
   "outputs": [
    {
     "name": "stdout",
     "output_type": "stream",
     "text": [
      "Enter the number5\n",
      "Enter the number4\n",
      "Enter the number6\n",
      "Enter the number8\n",
      "Enter the number1\n",
      "Enter the number0\n",
      "1\n",
      "8\n",
      "6\n",
      "4\n",
      "5\n"
     ]
    }
   ],
   "source": [
    "new_list = []\n",
    "num = int(input('Enter the number'))\n",
    "new_list.append(num)\n",
    "while num!=0:\n",
    "    num = int(input('Enter the number'))\n",
    "    new_list.append(num)\n",
    "length = len(new_list)\n",
    "for itr in range(length-2,-1,-1):\n",
    "    print(new_list[itr])"
   ]
  },
  {
   "cell_type": "markdown",
   "metadata": {},
   "source": [
    "**18**"
   ]
  },
  {
   "cell_type": "code",
   "execution_count": 18,
   "metadata": {},
   "outputs": [
    {
     "data": {
      "text/plain": [
       "43"
      ]
     },
     "execution_count": 18,
     "metadata": {},
     "output_type": "execute_result"
    }
   ],
   "source": [
    "s='The quick brown fox jumps over the lazy dog'\n",
    "len(s)"
   ]
  },
  {
   "cell_type": "code",
   "execution_count": 19,
   "metadata": {},
   "outputs": [
    {
     "name": "stdout",
     "output_type": "stream",
     "text": [
      "T\n",
      "h\n",
      "e\n",
      " \n",
      "q\n",
      "u\n",
      "i\n",
      "c\n",
      "k\n",
      " \n",
      "b\n",
      "r\n",
      "o\n",
      "w\n",
      "n\n",
      " \n",
      "f\n",
      "o\n",
      "x\n",
      " \n",
      "j\n",
      "u\n",
      "m\n",
      "p\n",
      "s\n",
      " \n",
      "o\n",
      "v\n",
      "e\n",
      "r\n",
      " \n",
      "t\n",
      "h\n",
      "e\n",
      " \n",
      "l\n",
      "a\n",
      "z\n",
      "y\n",
      " \n",
      "d\n",
      "o\n",
      "g\n"
     ]
    }
   ],
   "source": [
    "for i in range(43):\n",
    "    print(s[i])"
   ]
  },
  {
   "cell_type": "markdown",
   "metadata": {},
   "source": [
    "**19**"
   ]
  },
  {
   "cell_type": "code",
   "execution_count": 20,
   "metadata": {},
   "outputs": [],
   "source": [
    "morse = {}\n",
    "\n",
    "morse['a']='.-'\n",
    "morse['b']='-...'\n",
    "morse['c']='-.-.'\n",
    "morse['d']='-..'\n",
    "morse['e']='.'\n",
    "morse['f']='..-.'\n",
    "morse['g']='--.'\n",
    "morse['h']='....'\n",
    "morse['i']='..'\n",
    "morse['j']='.---'\n",
    "morse['k']='-.-'\n",
    "morse['l']='.-..'\n",
    "morse['m']='--'\n",
    "morse['n']='-.'\n",
    "morse['o']='---'\n",
    "morse['p']='.--.'\n",
    "morse['q']='--.-'\n",
    "morse['r']='.-.'\n",
    "morse['s']='...'\n",
    "morse['t']='-'\n",
    "morse['u']='..-'\n",
    "morse['v']='...-'\n",
    "morse['w']='.--'\n",
    "morse['x']='-..-'\n",
    "morse['y']='-.--'\n",
    "morse['z']='--..'\n",
    "morse['0']='-----'\n",
    "morse['1']='.----'\n",
    "morse['2']='..---'\n",
    "morse['3']='...--'\n",
    "morse['4']='....-'\n",
    "morse['5']='.....'\n",
    "morse['6']='-....'\n",
    "morse['7']='--...'\n",
    "morse['8']='---..'\n",
    "morse['9']='----.'\n"
   ]
  },
  {
   "cell_type": "code",
   "execution_count": 22,
   "metadata": {},
   "outputs": [
    {
     "name": "stdout",
     "output_type": "stream",
     "text": [
      "enter your message : hey how are\n",
      "....\n",
      ".\n",
      "-.--\n",
      " \n",
      "....\n",
      "---\n",
      ".--\n",
      " \n",
      ".-\n",
      ".-.\n",
      ".\n"
     ]
    }
   ],
   "source": [
    "message=input('enter your message : ')\n",
    "for i in message: \n",
    "    if i == \" \":\n",
    "        print(\" \")\n",
    "    else :\n",
    "        print(morse[i])"
   ]
  },
  {
   "cell_type": "markdown",
   "metadata": {},
   "source": [
    "**20**"
   ]
  },
  {
   "cell_type": "code",
   "execution_count": 23,
   "metadata": {},
   "outputs": [
    {
     "name": "stdout",
     "output_type": "stream",
     "text": [
      "Enter the string: fwjej\n",
      "Length of unique characters is:  4\n"
     ]
    }
   ],
   "source": [
    "in_string = input('Enter the string: ')\n",
    "new = {}\n",
    "for s in in_string:\n",
    "    new[s] = s\n",
    "    \n",
    "print('Length of unique characters is: ',len(new))"
   ]
  },
  {
   "cell_type": "markdown",
   "metadata": {},
   "source": [
    "**21**"
   ]
  },
  {
   "cell_type": "code",
   "execution_count": 24,
   "metadata": {},
   "outputs": [],
   "source": [
    "def calc_hypot(side1,side2):\n",
    "    hypot = (side1**2 + side2**2)**0.5\n",
    "    return hypot"
   ]
  },
  {
   "cell_type": "code",
   "execution_count": 25,
   "metadata": {},
   "outputs": [
    {
     "name": "stdout",
     "output_type": "stream",
     "text": [
      "Length of First shorter side3\n",
      "Length of second shorter side4\n"
     ]
    },
    {
     "data": {
      "text/plain": [
       "5.0"
      ]
     },
     "execution_count": 25,
     "metadata": {},
     "output_type": "execute_result"
    }
   ],
   "source": [
    "shorter_side_1 = float(input('Length of First shorter side'))\n",
    "shorter_side_2 = float(input('Length of second shorter side'))\n",
    "hypot = calc_hypot(shorter_side_1,shorter_side_2)\n",
    "hypot"
   ]
  },
  {
   "cell_type": "markdown",
   "metadata": {},
   "source": [
    "**22**"
   ]
  },
  {
   "cell_type": "code",
   "execution_count": 53,
   "metadata": {},
   "outputs": [],
   "source": [
    "def widen(string,width):\n",
    "    old_list = []\n",
    "    new_string = ''\n",
    "    for itr in range(len(string)):\n",
    "        old_list.append(string[itr])\n",
    "    new_list = ['']*(width + len(string))\n",
    "    #print(len(new_list))\n",
    "    i = width\n",
    "    new_list[i:] = old_list\n",
    "    for itr2 in range(width):\n",
    "        new_list.append('')\n",
    "    return new_list"
   ]
  },
  {
   "cell_type": "code",
   "execution_count": 58,
   "metadata": {},
   "outputs": [
    {
     "name": "stdout",
     "output_type": "stream",
     "text": [
      "Enter the stringhey\n",
      "Enter the width2\n",
      "['', '', 'h', 'e', 'y', '', '']\n"
     ]
    },
    {
     "data": {
      "text/plain": [
       "'  h e y  '"
      ]
     },
     "execution_count": 58,
     "metadata": {},
     "output_type": "execute_result"
    }
   ],
   "source": [
    "string = input('Enter the string')\n",
    "width = int(input('Enter the width'))\n",
    "lst = widen(string,width)\n",
    "print(lst)\n",
    "\" \".join(lst)"
   ]
  },
  {
   "cell_type": "markdown",
   "metadata": {},
   "source": [
    "**23**"
   ]
  },
  {
   "cell_type": "code",
   "execution_count": 2,
   "metadata": {},
   "outputs": [],
   "source": [
    "def isInteger(string):\n",
    "    int_list = ['0','1','2','3','4','5','6','7','8','9']\n",
    "    k=0\n",
    "    for i in range(0,len(int_list)):\n",
    "        if string[0] == '+' or '-' or int_list[i]:\n",
    "            #print('Cannot be converted to integer')\n",
    "            k=1\n",
    "    for itr in range(1,len(string)):\n",
    "        for itr2 in range(0,len(int_list)):\n",
    "            if string[itr] != int_list[itr2]:\n",
    "                k=1\n",
    "                #print('Cannot be converted to integer')\n",
    "            else:\n",
    "                k=0\n",
    "                #print('Can be converted to integer')\n",
    "    return k"
   ]
  },
  {
   "cell_type": "code",
   "execution_count": 3,
   "metadata": {},
   "outputs": [
    {
     "name": "stdout",
     "output_type": "stream",
     "text": [
      "Enter the string-234\n",
      "Cannot be coverted to int\n"
     ]
    }
   ],
   "source": [
    "string = input('Enter the string')\n",
    "k = isInteger(string)\n",
    "if k == 1:\n",
    "    print('Cannot be coverted to int')\n",
    "else:\n",
    "    print('Can be converted to int')"
   ]
  },
  {
   "cell_type": "markdown",
   "metadata": {},
   "source": [
    "**24**"
   ]
  },
  {
   "cell_type": "code",
   "execution_count": 5,
   "metadata": {},
   "outputs": [],
   "source": [
    "def find_prime(num):\n",
    "    for itr in range(2,num):\n",
    "        if num%itr == 0:\n",
    "            k=0\n",
    "        else:\n",
    "            k=1\n",
    "    if k==0:\n",
    "        print('Non Prime')\n",
    "    else:\n",
    "        print('Prime')"
   ]
  },
  {
   "cell_type": "code",
   "execution_count": 6,
   "metadata": {},
   "outputs": [
    {
     "name": "stdout",
     "output_type": "stream",
     "text": [
      "Enter the number5\n",
      "Prime\n"
     ]
    }
   ],
   "source": [
    "num = int(input('Enter the number'))\n",
    "find_prime(num)"
   ]
  },
  {
   "cell_type": "markdown",
   "metadata": {},
   "source": [
    "**25**"
   ]
  },
  {
   "cell_type": "code",
   "execution_count": 7,
   "metadata": {},
   "outputs": [],
   "source": [
    "def find_no_days(month,year):\n",
    "    list_31 = [1,3,5,7,8,10,12]\n",
    "    list_30 = [4,6,9,11]\n",
    "    l1 = len(list_31)\n",
    "    l2 = len(list_30)\n",
    "    if month == 2:\n",
    "        if year%4 == 0:\n",
    "            days = 29\n",
    "        else:\n",
    "            days = 28\n",
    "    else:\n",
    "        for itr in range(0,l1):\n",
    "            if month == list_31[itr]:\n",
    "                days = 31\n",
    "            else:\n",
    "                break\n",
    "        for itr2 in range(0,l2):\n",
    "            if month == list_30[itr2]:\n",
    "                days = 30\n",
    "            else:\n",
    "                break\n",
    "    return days"
   ]
  },
  {
   "cell_type": "code",
   "execution_count": 8,
   "metadata": {},
   "outputs": [
    {
     "name": "stdout",
     "output_type": "stream",
     "text": [
      "Enter month2\n",
      "Enter year1998\n"
     ]
    },
    {
     "data": {
      "text/plain": [
       "28"
      ]
     },
     "execution_count": 8,
     "metadata": {},
     "output_type": "execute_result"
    }
   ],
   "source": [
    "month = int(input('Enter month'))\n",
    "year = int(input('Enter year'))\n",
    "days = find_no_days(month,year)\n",
    "days"
   ]
  }
 ],
 "metadata": {
  "kernelspec": {
   "display_name": "Python 3",
   "language": "python",
   "name": "python3"
  },
  "language_info": {
   "codemirror_mode": {
    "name": "ipython",
    "version": 3
   },
   "file_extension": ".py",
   "mimetype": "text/x-python",
   "name": "python",
   "nbconvert_exporter": "python",
   "pygments_lexer": "ipython3",
   "version": "3.6.5"
  }
 },
 "nbformat": 4,
 "nbformat_minor": 2
}
